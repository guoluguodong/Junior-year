{
 "cells": [
  {
   "metadata": {},
   "cell_type": "markdown",
   "source": "",
   "id": "f3dfcd7feb54fcec"
  },
  {
   "metadata": {
    "ExecuteTime": {
     "end_time": "2024-04-22T07:28:12.179061Z",
     "start_time": "2024-04-22T07:28:12.169786Z"
    }
   },
   "cell_type": "code",
   "source": [
    "from PIL import Image\n",
    "img = Image.open('image/1.jpg')\n",
    "width, height = img.size"
   ],
   "id": "356a45715b6170dd",
   "outputs": [],
   "execution_count": 9
  },
  {
   "metadata": {
    "ExecuteTime": {
     "end_time": "2024-04-22T07:28:12.251583Z",
     "start_time": "2024-04-22T07:28:12.243074Z"
    }
   },
   "cell_type": "code",
   "source": [
    "\"\"\"\n",
    "基于实验1的代码，采用实现Feistel加密解密\n",
    "keys = \n",
    "15782, 31857, 16446, 17342, 7731, 10979, 4057, 25173, 16245, 24647, 29548, 16031, 24278, 2482, 29640, 3573\n",
    "\n",
    "\n",
    "明文 87, 88, 16, 10, 65, 78, 6, 6, 78, 94, 12, 25, 53, 120, 49, 69, 67, 99, 48, 73, 84, 111, 39, 88, 80, 22\n",
    "\"\"\"\n",
    "hidden_assic= [87, 88, 16, 10, 65, 78, 6, 6, 78, 94, 12, 25, 53, 120, 49, 69, 67, 99, 48, 73, 84, 111, 39, 88, 80, 22]\n",
    "\n",
    "hidden_binary = ''.join(format(number, '08b') for number in hidden_assic)\n"
   ],
   "id": "1a8ca7078f6be600",
   "outputs": [],
   "execution_count": 10
  },
  {
   "metadata": {
    "ExecuteTime": {
     "end_time": "2024-04-22T07:28:12.282833Z",
     "start_time": "2024-04-22T07:28:12.274594Z"
    }
   },
   "cell_type": "code",
   "source": "print(hidden_binary)",
   "id": "2befae65e0f4203f",
   "outputs": [
    {
     "name": "stdout",
     "output_type": "stream",
     "text": [
      "0101011101011000000100000000101001000001010011100000011000000110010011100101111000001100000110010011010101111000001100010100010101000011011000110011000001001001010101000110111100100111010110000101000000010110\n"
     ]
    }
   ],
   "execution_count": 11
  },
  {
   "metadata": {
    "ExecuteTime": {
     "end_time": "2024-04-22T07:28:19.163804Z",
     "start_time": "2024-04-22T07:28:12.305842Z"
    }
   },
   "cell_type": "code",
   "source": [
    "hidden_index = 0\n",
    "for y in range(height):\n",
    "    for x in range(width):\n",
    "        pixel = list(img.getpixel((x, y)))\n",
    "        if x == 0 and y == 0:\n",
    "            print(\"原始像素点（0，0）rgb值:\", pixel)\n",
    "        for i in range(3):\n",
    "            if hidden_index < len(hidden_binary):\n",
    "                if 50<=pixel[i]<80:\n",
    "                    # 只在50~80像素值的位置进行写入，便于卡方分析画图\n",
    "                    # 最低位置0，可采用“&=~1”\n",
    "                    # ~1 = ~00000001=1111 1110\n",
    "                    #  129=          1000 0001        \n",
    "                    pixel[i] &= ~1  \n",
    "                    #  128 = 1000 0000\n",
    "                    # 如果待隐藏信息位是0，rgb某一位要写成0\n",
    "                    # 如果待隐藏信息位是1，rgb某一位要写成1\n",
    "                    # 由于已经置0，“|=隐藏信息位”即可\n",
    "                    pixel[i] |= int(hidden_binary[hidden_index])\n",
    "                    if x == 0 and y == 0:\n",
    "                        print(\"待隐藏信息位信息：\", hidden_binary[hidden_index])\n",
    "                    hidden_index += 1\n",
    "            else:\n",
    "                hidden_index = 0\n",
    "        img.putpixel((x, y), tuple(pixel))\n",
    "        pixel = list(img.getpixel((x, y)))\n",
    "        if x == 0 and y == 0:\n",
    "            print(pixel)"
   ],
   "id": "3cf8c09be56b05a7",
   "outputs": [
    {
     "name": "stdout",
     "output_type": "stream",
     "text": [
      "原始像素点（0，0）rgb值: [129, 166, 234]\n",
      "[129, 166, 234]\n"
     ]
    }
   ],
   "execution_count": 12
  },
  {
   "metadata": {
    "ExecuteTime": {
     "end_time": "2024-04-22T07:28:24.201703Z",
     "start_time": "2024-04-22T07:28:19.167811Z"
    }
   },
   "cell_type": "code",
   "source": [
    "# 输出图像\n",
    "img.save(\"encrypted_image.png\")\n",
    "img.show()  # 显示图像"
   ],
   "id": "d93e50c778bfe496",
   "outputs": [],
   "execution_count": 13
  },
  {
   "metadata": {
    "ExecuteTime": {
     "end_time": "2024-04-22T07:28:26.613473Z",
     "start_time": "2024-04-22T07:28:24.204738Z"
    }
   },
   "cell_type": "code",
   "source": [
    "# 解密\n",
    "hidden_index = 0\n",
    "img = Image.open(\"encrypted_image.png\")\n",
    "width, height = img.size\n",
    "de_binary = \"\"\n",
    "while hidden_index < len(hidden_binary):\n",
    "    for y in range(height):\n",
    "        for x in range(width):\n",
    "            pixel = list(img.getpixel((x, y)))\n",
    "            for i in range(3):\n",
    "                if hidden_index < len(hidden_binary):\n",
    "                    if 50<=pixel[i]<80:\n",
    "                    # 提取出像素的最低1bit\n",
    "                        de_binary += str(pixel[i] & 1)  \n",
    "                        hidden_index+=1\n",
    "                    "
   ],
   "id": "3dbe0b6f82e755f6",
   "outputs": [],
   "execution_count": 14
  },
  {
   "metadata": {
    "ExecuteTime": {
     "end_time": "2024-04-22T07:28:26.623352Z",
     "start_time": "2024-04-22T07:28:26.615590Z"
    }
   },
   "cell_type": "code",
   "source": [
    "# 打印明文\n",
    "secret_message = []\n",
    "for i in range(0, len(de_binary), 8):\n",
    "    byte = de_binary[i:i + 8]\n",
    "    secret_message.append(int(byte,2))\n",
    "print(secret_message)   "
   ],
   "id": "c6c9db6da62b115d",
   "outputs": [
    {
     "name": "stdout",
     "output_type": "stream",
     "text": [
      "[87, 88, 16, 10, 65, 78, 6, 6, 78, 94, 12, 25, 53, 120, 49, 69, 67, 99, 48, 73, 84, 111, 39, 88, 80, 22]\n"
     ]
    }
   ],
   "execution_count": 15
  },
  {
   "metadata": {},
   "cell_type": "markdown",
   "source": "",
   "id": "22d5e1c47d29abea"
  },
  {
   "metadata": {},
   "cell_type": "markdown",
   "source": "",
   "id": "3577d6592995f166"
  },
  {
   "metadata": {
    "ExecuteTime": {
     "end_time": "2024-04-22T07:28:26.636905Z",
     "start_time": "2024-04-22T07:28:26.629389Z"
    }
   },
   "cell_type": "code",
   "source": [
    "\"\"\"\n",
    "基于实验1的加密算法的解密部分，输入指定的key=15782, 31857, 16446, 17342, 7731, 10979, 4057, 25173, 16245, 24647, 29548, 16031, 24278, 2482, 29640, 3573\n",
    "\n",
    "和从图片中获取的信息[87, 88, 16, 10, 65, 78, 6, 6, 78, 94, 12, 25, 53, 120, 49, 69, 67, 99, 48, 73, 84, 111, 39, 88, 80, 22]\n",
    "解密出 CQUINFORMATIONSECURITYEXP\n",
    "\"\"\" \n",
    "print(\"CQUINFORMATIONSECURITYEXP\")"
   ],
   "id": "2051b7581eb7a557",
   "outputs": [
    {
     "name": "stdout",
     "output_type": "stream",
     "text": [
      "CQUINFORMATIONSECURITYEXP\n"
     ]
    }
   ],
   "execution_count": 16
  },
  {
   "metadata": {
    "ExecuteTime": {
     "end_time": "2024-04-22T07:28:26.644736Z",
     "start_time": "2024-04-22T07:28:26.640922Z"
    }
   },
   "cell_type": "code",
   "source": "",
   "id": "724e25c5988ff4a8",
   "outputs": [],
   "execution_count": 16
  }
 ],
 "metadata": {
  "kernelspec": {
   "display_name": "Python 3",
   "language": "python",
   "name": "python3"
  },
  "language_info": {
   "codemirror_mode": {
    "name": "ipython",
    "version": 2
   },
   "file_extension": ".py",
   "mimetype": "text/x-python",
   "name": "python",
   "nbconvert_exporter": "python",
   "pygments_lexer": "ipython2",
   "version": "2.7.6"
  }
 },
 "nbformat": 4,
 "nbformat_minor": 5
}
